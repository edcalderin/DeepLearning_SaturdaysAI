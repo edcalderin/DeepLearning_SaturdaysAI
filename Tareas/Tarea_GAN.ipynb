{
  "nbformat": 4,
  "nbformat_minor": 0,
  "metadata": {
    "colab": {
      "name": "GAN Tarea.ipynb",
      "provenance": [],
      "collapsed_sections": [],
      "include_colab_link": true
    },
    "kernelspec": {
      "name": "python3",
      "display_name": "Python 3"
    },
    "language_info": {
      "name": "python"
    },
    "widgets": {
      "application/vnd.jupyter.widget-state+json": {
        "a8fac81d83084168a681b48480dee2bd": {
          "model_module": "@jupyter-widgets/controls",
          "model_name": "HBoxModel",
          "state": {
            "_view_name": "HBoxView",
            "_dom_classes": [],
            "_model_name": "HBoxModel",
            "_view_module": "@jupyter-widgets/controls",
            "_model_module_version": "1.5.0",
            "_view_count": null,
            "_view_module_version": "1.5.0",
            "box_style": "",
            "layout": "IPY_MODEL_0643b27659f344c79f1efb1743bf550a",
            "_model_module": "@jupyter-widgets/controls",
            "children": [
              "IPY_MODEL_1d3bc3bce62341298752e9c54188e371",
              "IPY_MODEL_a1e509b82ec5454a9beed85ac341c903"
            ]
          }
        },
        "0643b27659f344c79f1efb1743bf550a": {
          "model_module": "@jupyter-widgets/base",
          "model_name": "LayoutModel",
          "state": {
            "_view_name": "LayoutView",
            "grid_template_rows": null,
            "right": null,
            "justify_content": null,
            "_view_module": "@jupyter-widgets/base",
            "overflow": null,
            "_model_module_version": "1.2.0",
            "_view_count": null,
            "flex_flow": null,
            "width": null,
            "min_width": null,
            "border": null,
            "align_items": null,
            "bottom": null,
            "_model_module": "@jupyter-widgets/base",
            "top": null,
            "grid_column": null,
            "overflow_y": null,
            "overflow_x": null,
            "grid_auto_flow": null,
            "grid_area": null,
            "grid_template_columns": null,
            "flex": null,
            "_model_name": "LayoutModel",
            "justify_items": null,
            "grid_row": null,
            "max_height": null,
            "align_content": null,
            "visibility": null,
            "align_self": null,
            "height": null,
            "min_height": null,
            "padding": null,
            "grid_auto_rows": null,
            "grid_gap": null,
            "max_width": null,
            "order": null,
            "_view_module_version": "1.2.0",
            "grid_template_areas": null,
            "object_position": null,
            "object_fit": null,
            "grid_auto_columns": null,
            "margin": null,
            "display": null,
            "left": null
          }
        },
        "1d3bc3bce62341298752e9c54188e371": {
          "model_module": "@jupyter-widgets/controls",
          "model_name": "FloatProgressModel",
          "state": {
            "_view_name": "ProgressView",
            "style": "IPY_MODEL_f773f53bb5e64968aa1a748cf1abe666",
            "_dom_classes": [],
            "description": "",
            "_model_name": "FloatProgressModel",
            "bar_style": "success",
            "max": 1957803273,
            "_view_module": "@jupyter-widgets/controls",
            "_model_module_version": "1.5.0",
            "value": 1957803273,
            "_view_count": null,
            "_view_module_version": "1.5.0",
            "orientation": "horizontal",
            "min": 0,
            "description_tooltip": null,
            "_model_module": "@jupyter-widgets/controls",
            "layout": "IPY_MODEL_a8709069a27449509f9718f19e039181"
          }
        },
        "a1e509b82ec5454a9beed85ac341c903": {
          "model_module": "@jupyter-widgets/controls",
          "model_name": "HTMLModel",
          "state": {
            "_view_name": "HTMLView",
            "style": "IPY_MODEL_077dfa5231374af5b94f921f9db11e73",
            "_dom_classes": [],
            "description": "",
            "_model_name": "HTMLModel",
            "placeholder": "​",
            "_view_module": "@jupyter-widgets/controls",
            "_model_module_version": "1.5.0",
            "value": " 1957804032/? [00:51&lt;00:00, 38079897.44it/s]",
            "_view_count": null,
            "_view_module_version": "1.5.0",
            "description_tooltip": null,
            "_model_module": "@jupyter-widgets/controls",
            "layout": "IPY_MODEL_fc1ebebd5ca546fdab294db85652bfc1"
          }
        },
        "f773f53bb5e64968aa1a748cf1abe666": {
          "model_module": "@jupyter-widgets/controls",
          "model_name": "ProgressStyleModel",
          "state": {
            "_view_name": "StyleView",
            "_model_name": "ProgressStyleModel",
            "description_width": "initial",
            "_view_module": "@jupyter-widgets/base",
            "_model_module_version": "1.5.0",
            "_view_count": null,
            "_view_module_version": "1.2.0",
            "bar_color": null,
            "_model_module": "@jupyter-widgets/controls"
          }
        },
        "a8709069a27449509f9718f19e039181": {
          "model_module": "@jupyter-widgets/base",
          "model_name": "LayoutModel",
          "state": {
            "_view_name": "LayoutView",
            "grid_template_rows": null,
            "right": null,
            "justify_content": null,
            "_view_module": "@jupyter-widgets/base",
            "overflow": null,
            "_model_module_version": "1.2.0",
            "_view_count": null,
            "flex_flow": null,
            "width": null,
            "min_width": null,
            "border": null,
            "align_items": null,
            "bottom": null,
            "_model_module": "@jupyter-widgets/base",
            "top": null,
            "grid_column": null,
            "overflow_y": null,
            "overflow_x": null,
            "grid_auto_flow": null,
            "grid_area": null,
            "grid_template_columns": null,
            "flex": null,
            "_model_name": "LayoutModel",
            "justify_items": null,
            "grid_row": null,
            "max_height": null,
            "align_content": null,
            "visibility": null,
            "align_self": null,
            "height": null,
            "min_height": null,
            "padding": null,
            "grid_auto_rows": null,
            "grid_gap": null,
            "max_width": null,
            "order": null,
            "_view_module_version": "1.2.0",
            "grid_template_areas": null,
            "object_position": null,
            "object_fit": null,
            "grid_auto_columns": null,
            "margin": null,
            "display": null,
            "left": null
          }
        },
        "077dfa5231374af5b94f921f9db11e73": {
          "model_module": "@jupyter-widgets/controls",
          "model_name": "DescriptionStyleModel",
          "state": {
            "_view_name": "StyleView",
            "_model_name": "DescriptionStyleModel",
            "description_width": "",
            "_view_module": "@jupyter-widgets/base",
            "_model_module_version": "1.5.0",
            "_view_count": null,
            "_view_module_version": "1.2.0",
            "_model_module": "@jupyter-widgets/controls"
          }
        },
        "fc1ebebd5ca546fdab294db85652bfc1": {
          "model_module": "@jupyter-widgets/base",
          "model_name": "LayoutModel",
          "state": {
            "_view_name": "LayoutView",
            "grid_template_rows": null,
            "right": null,
            "justify_content": null,
            "_view_module": "@jupyter-widgets/base",
            "overflow": null,
            "_model_module_version": "1.2.0",
            "_view_count": null,
            "flex_flow": null,
            "width": null,
            "min_width": null,
            "border": null,
            "align_items": null,
            "bottom": null,
            "_model_module": "@jupyter-widgets/base",
            "top": null,
            "grid_column": null,
            "overflow_y": null,
            "overflow_x": null,
            "grid_auto_flow": null,
            "grid_area": null,
            "grid_template_columns": null,
            "flex": null,
            "_model_name": "LayoutModel",
            "justify_items": null,
            "grid_row": null,
            "max_height": null,
            "align_content": null,
            "visibility": null,
            "align_self": null,
            "height": null,
            "min_height": null,
            "padding": null,
            "grid_auto_rows": null,
            "grid_gap": null,
            "max_width": null,
            "order": null,
            "_view_module_version": "1.2.0",
            "grid_template_areas": null,
            "object_position": null,
            "object_fit": null,
            "grid_auto_columns": null,
            "margin": null,
            "display": null,
            "left": null
          }
        }
      }
    }
  },
  "cells": [
    {
      "cell_type": "markdown",
      "metadata": {
        "id": "view-in-github",
        "colab_type": "text"
      },
      "source": [
        "<a href=\"https://colab.research.google.com/github/edcalderin/DeepLearning_SaturdaysAI/blob/master/Tareas/Tarea_GAN.ipynb\" target=\"_parent\"><img src=\"https://colab.research.google.com/assets/colab-badge.svg\" alt=\"Open In Colab\"/></a>"
      ]
    },
    {
      "cell_type": "markdown",
      "metadata": {
        "id": "2vIUO240ZrDd"
      },
      "source": [
        "# Tarea: GAN\n",
        "### Grupo: XXXXX\n",
        "Integrantes:\n",
        "<br>\n",
        "* Integrante 1 \n",
        "* Integrante 2\n",
        "* Integrante 3\n",
        "* Integrante 4\n",
        "<br>\n",
        "\n",
        "Indicaciones:\n",
        "<rb>\n",
        "* Debe realizar la siguiente tarea hasta el 04 de julio, 23:59 UTC - 4\n",
        "* Debe hacer una copia de este notebook para poder editar el código.\n",
        "* Una vez finalizado el trabajo debe subir el link de su notebook (con permisos de lector) en la sección de \"Tareas\" del módulo correspondiente"
      ]
    },
    {
      "cell_type": "markdown",
      "metadata": {
        "id": "rku_fDQAbzOu"
      },
      "source": [
        "Para la tarea se puede elegir una de tres opciones:\n",
        "\n",
        "\n",
        "A) Partiendo de la red GAN vista en clase tomar otro dataset y entrenar para él. Por ejemplo se puede usar el dataset: https://ai.stanford.edu/~jkrause/cars/car_dataset.html\n",
        "\n",
        "B) Partiendo de la red GAN vista en clase, utilizando MNIST, trabajar con la red DCGAN: https://arxiv.org/pdf/1511.06434.pdf\n",
        "\n",
        "C) Realizar A y B al mismo tiempo\n",
        "\n",
        "\n",
        "Se deja a modo de ejemplo parte del código de un posible discriminador para la opción B) a continuación y código auxiliar para obtener el dataset de A).\n",
        "\n",
        "Se recomienda si se realizan entrenamientos muy largos ejecutar el código en una instancia cloud, no en Colab.\n"
      ]
    },
    {
      "cell_type": "code",
      "metadata": {
        "id": "ab8ixkYrA9oq"
      },
      "source": [
        "from torchvision.datasets.utils import download_url\n",
        "import torch\n",
        "import os\n",
        "import tarfile"
      ],
      "execution_count": 2,
      "outputs": []
    },
    {
      "cell_type": "code",
      "metadata": {
        "id": "LxhN9WEqnAHB",
        "outputId": "4df67418-23eb-4ab6-c4a6-1358c8e084e3",
        "colab": {
          "base_uri": "https://localhost:8080/",
          "height": 116,
          "referenced_widgets": [
            "a8fac81d83084168a681b48480dee2bd",
            "0643b27659f344c79f1efb1743bf550a",
            "1d3bc3bce62341298752e9c54188e371",
            "a1e509b82ec5454a9beed85ac341c903",
            "f773f53bb5e64968aa1a748cf1abe666",
            "a8709069a27449509f9718f19e039181",
            "077dfa5231374af5b94f921f9db11e73",
            "fc1ebebd5ca546fdab294db85652bfc1"
          ]
        }
      },
      "source": [
        "dataset_url = 'https://s3.amazonaws.com/fast-ai-imageclas/stanford-cars.tgz'\n",
        "download_url(dataset_url, '.')\n",
        "with tarfile.open('./stanford-cars.tgz', 'r:gz' ) as tar:\n",
        "                  tar.extractall(path= './cars_data')\n",
        "data_dir = './cars_data/stanford-cars'\n",
        "train_dir = data_dir +'/cars_train'\n",
        "print(os.listdir(data_dir))\n",
        "len(train_dir)"
      ],
      "execution_count": 3,
      "outputs": [
        {
          "output_type": "stream",
          "text": [
            "Downloading https://s3.amazonaws.com/fast-ai-imageclas/stanford-cars.tgz to ./stanford-cars.tgz\n"
          ],
          "name": "stdout"
        },
        {
          "output_type": "display_data",
          "data": {
            "application/vnd.jupyter.widget-view+json": {
              "model_id": "a8fac81d83084168a681b48480dee2bd",
              "version_minor": 0,
              "version_major": 2
            },
            "text/plain": [
              "HBox(children=(FloatProgress(value=0.0, max=1957803273.0), HTML(value='')))"
            ]
          },
          "metadata": {
            "tags": []
          }
        },
        {
          "output_type": "stream",
          "text": [
            "\n",
            "['cars_annos.mat', 'cars_test', 'cars_train']\n"
          ],
          "name": "stdout"
        },
        {
          "output_type": "execute_result",
          "data": {
            "text/plain": [
              "36"
            ]
          },
          "metadata": {
            "tags": []
          },
          "execution_count": 3
        }
      ]
    },
    {
      "cell_type": "code",
      "metadata": {
        "id": "3ZNtZqfXBSG2"
      },
      "source": [
        "device = torch.device('cuda' if torch.cuda.is_available() else 'cpu')"
      ],
      "execution_count": 4,
      "outputs": []
    },
    {
      "cell_type": "code",
      "metadata": {
        "id": "2QYShK5_deOh"
      },
      "source": [
        "IMAGE_DIM = (32, 32, 3)\n",
        "def get_sample_image(G, n_noise):\n",
        "    \"\"\"\n",
        "        save sample 100 images\n",
        "    \"\"\"\n",
        "    z = torch.randn(10, n_noise).to(device)\n",
        "    y_hat = G(z).view(10, 3, 32, 32).permute(0, 2, 3, 1) # (100, 28, 28)\n",
        "    result = (y_hat.detach().cpu().numpy()+1)/2.\n",
        "    return result"
      ],
      "execution_count": 5,
      "outputs": []
    },
    {
      "cell_type": "code",
      "metadata": {
        "id": "gJvfN-OUbyrI"
      },
      "source": [
        "class Discriminator(nn.Module):\n",
        "    def __init__(self, in_channel=1, num_classes=1):\n",
        "        super(Discriminator, self).__init__()\n",
        "        self.conv = nn.Sequential(\n",
        "            # Reduce size\n",
        "            nn.Conv2d(in_channel, 512, 3, stride=2, padding=1, bias=False),\n",
        "            nn.BatchNorm2d(512),\n",
        "            nn.LeakyReLU(0.2),\n",
        "            # Reduce size\n",
        "            # @TODO\n",
        "\n",
        "            # Reduce size\n",
        "            # @TODO\n",
        "            \n",
        "            # \n",
        "            nn.Conv2d(128, 128, 3, stride=2, padding=1, bias=False),\n",
        "            nn.BatchNorm2d(128),\n",
        "            nn.LeakyReLU(0.2),\n",
        "            nn.AdaptiveAvgPool2d(1),\n",
        "        )        \n",
        "        self.fc = nn.Sequential(\n",
        "            # reshape input, 128 -> 1\n",
        "            nn.Linear(128, 1),\n",
        "            nn.Sigmoid(),\n",
        "        )\n",
        "    \n",
        "    def forward(self, x, y=None):\n",
        "        y_ = self.conv(x)\n",
        "        y_ = y_.view(y_.size(0), -1)\n",
        "        y_ = self.fc(y_)\n",
        "        return y_"
      ],
      "execution_count": null,
      "outputs": []
    },
    {
      "cell_type": "code",
      "metadata": {
        "id": "848iFfMtZskv"
      },
      "source": [
        "# Recordar que a diferencia de MNIST ahora se está trabajando con imágenes a color por lo que cambian las dimensiones\n",
        "transform = transforms.Compose([transforms.Resize((IMAGE_DIM[0],IMAGE_DIM[1])),\n",
        "                                transforms.ToTensor(),\n",
        "                                transforms.Normalize(mean=(0.5, 0.5, 0.5),\n",
        "                                std=(0.5, 0.5, 0.5))\n",
        "                               ]\n"
      ],
      "execution_count": null,
      "outputs": []
    }
  ]
}