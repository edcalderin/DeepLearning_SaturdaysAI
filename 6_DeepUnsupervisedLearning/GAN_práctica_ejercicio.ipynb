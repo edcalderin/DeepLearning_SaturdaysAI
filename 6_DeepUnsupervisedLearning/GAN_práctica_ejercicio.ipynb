{
  "nbformat": 4,
  "nbformat_minor": 0,
  "metadata": {
    "colab": {
      "name": "GAN práctica - ejercicio.ipynb",
      "provenance": [],
      "include_colab_link": true
    },
    "kernelspec": {
      "name": "python3",
      "display_name": "Python 3"
    },
    "language_info": {
      "name": "python"
    },
    "accelerator": "GPU",
    "widgets": {
      "application/vnd.jupyter.widget-state+json": {
        "e63f3b23e3d243578d613c910872fe01": {
          "model_module": "@jupyter-widgets/controls",
          "model_name": "HBoxModel",
          "state": {
            "_view_name": "HBoxView",
            "_dom_classes": [],
            "_model_name": "HBoxModel",
            "_view_module": "@jupyter-widgets/controls",
            "_model_module_version": "1.5.0",
            "_view_count": null,
            "_view_module_version": "1.5.0",
            "box_style": "",
            "layout": "IPY_MODEL_ee2f182112c043ffa08346d6447ea180",
            "_model_module": "@jupyter-widgets/controls",
            "children": [
              "IPY_MODEL_1177a854e1b941f483aae4657326510d",
              "IPY_MODEL_ed0a3d594f2d42f488e160cfeb0a21d2"
            ]
          }
        },
        "ee2f182112c043ffa08346d6447ea180": {
          "model_module": "@jupyter-widgets/base",
          "model_name": "LayoutModel",
          "state": {
            "_view_name": "LayoutView",
            "grid_template_rows": null,
            "right": null,
            "justify_content": null,
            "_view_module": "@jupyter-widgets/base",
            "overflow": null,
            "_model_module_version": "1.2.0",
            "_view_count": null,
            "flex_flow": null,
            "width": null,
            "min_width": null,
            "border": null,
            "align_items": null,
            "bottom": null,
            "_model_module": "@jupyter-widgets/base",
            "top": null,
            "grid_column": null,
            "overflow_y": null,
            "overflow_x": null,
            "grid_auto_flow": null,
            "grid_area": null,
            "grid_template_columns": null,
            "flex": null,
            "_model_name": "LayoutModel",
            "justify_items": null,
            "grid_row": null,
            "max_height": null,
            "align_content": null,
            "visibility": null,
            "align_self": null,
            "height": null,
            "min_height": null,
            "padding": null,
            "grid_auto_rows": null,
            "grid_gap": null,
            "max_width": null,
            "order": null,
            "_view_module_version": "1.2.0",
            "grid_template_areas": null,
            "object_position": null,
            "object_fit": null,
            "grid_auto_columns": null,
            "margin": null,
            "display": null,
            "left": null
          }
        },
        "1177a854e1b941f483aae4657326510d": {
          "model_module": "@jupyter-widgets/controls",
          "model_name": "FloatProgressModel",
          "state": {
            "_view_name": "ProgressView",
            "style": "IPY_MODEL_95df8467092249a687b8a4f7bb0665a6",
            "_dom_classes": [],
            "description": "",
            "_model_name": "FloatProgressModel",
            "bar_style": "success",
            "max": 9912422,
            "_view_module": "@jupyter-widgets/controls",
            "_model_module_version": "1.5.0",
            "value": 9912422,
            "_view_count": null,
            "_view_module_version": "1.5.0",
            "orientation": "horizontal",
            "min": 0,
            "description_tooltip": null,
            "_model_module": "@jupyter-widgets/controls",
            "layout": "IPY_MODEL_8647ea52750b4bfa83067eb8b147cd38"
          }
        },
        "ed0a3d594f2d42f488e160cfeb0a21d2": {
          "model_module": "@jupyter-widgets/controls",
          "model_name": "HTMLModel",
          "state": {
            "_view_name": "HTMLView",
            "style": "IPY_MODEL_4c206e85cc294b4a9212ca585fb127d3",
            "_dom_classes": [],
            "description": "",
            "_model_name": "HTMLModel",
            "placeholder": "​",
            "_view_module": "@jupyter-widgets/controls",
            "_model_module_version": "1.5.0",
            "value": " 9913344/? [11:59&lt;00:00, 13780.24it/s]",
            "_view_count": null,
            "_view_module_version": "1.5.0",
            "description_tooltip": null,
            "_model_module": "@jupyter-widgets/controls",
            "layout": "IPY_MODEL_cd1b7e978c4a4b4888942adbd48bf6ce"
          }
        },
        "95df8467092249a687b8a4f7bb0665a6": {
          "model_module": "@jupyter-widgets/controls",
          "model_name": "ProgressStyleModel",
          "state": {
            "_view_name": "StyleView",
            "_model_name": "ProgressStyleModel",
            "description_width": "initial",
            "_view_module": "@jupyter-widgets/base",
            "_model_module_version": "1.5.0",
            "_view_count": null,
            "_view_module_version": "1.2.0",
            "bar_color": null,
            "_model_module": "@jupyter-widgets/controls"
          }
        },
        "8647ea52750b4bfa83067eb8b147cd38": {
          "model_module": "@jupyter-widgets/base",
          "model_name": "LayoutModel",
          "state": {
            "_view_name": "LayoutView",
            "grid_template_rows": null,
            "right": null,
            "justify_content": null,
            "_view_module": "@jupyter-widgets/base",
            "overflow": null,
            "_model_module_version": "1.2.0",
            "_view_count": null,
            "flex_flow": null,
            "width": null,
            "min_width": null,
            "border": null,
            "align_items": null,
            "bottom": null,
            "_model_module": "@jupyter-widgets/base",
            "top": null,
            "grid_column": null,
            "overflow_y": null,
            "overflow_x": null,
            "grid_auto_flow": null,
            "grid_area": null,
            "grid_template_columns": null,
            "flex": null,
            "_model_name": "LayoutModel",
            "justify_items": null,
            "grid_row": null,
            "max_height": null,
            "align_content": null,
            "visibility": null,
            "align_self": null,
            "height": null,
            "min_height": null,
            "padding": null,
            "grid_auto_rows": null,
            "grid_gap": null,
            "max_width": null,
            "order": null,
            "_view_module_version": "1.2.0",
            "grid_template_areas": null,
            "object_position": null,
            "object_fit": null,
            "grid_auto_columns": null,
            "margin": null,
            "display": null,
            "left": null
          }
        },
        "4c206e85cc294b4a9212ca585fb127d3": {
          "model_module": "@jupyter-widgets/controls",
          "model_name": "DescriptionStyleModel",
          "state": {
            "_view_name": "StyleView",
            "_model_name": "DescriptionStyleModel",
            "description_width": "",
            "_view_module": "@jupyter-widgets/base",
            "_model_module_version": "1.5.0",
            "_view_count": null,
            "_view_module_version": "1.2.0",
            "_model_module": "@jupyter-widgets/controls"
          }
        },
        "cd1b7e978c4a4b4888942adbd48bf6ce": {
          "model_module": "@jupyter-widgets/base",
          "model_name": "LayoutModel",
          "state": {
            "_view_name": "LayoutView",
            "grid_template_rows": null,
            "right": null,
            "justify_content": null,
            "_view_module": "@jupyter-widgets/base",
            "overflow": null,
            "_model_module_version": "1.2.0",
            "_view_count": null,
            "flex_flow": null,
            "width": null,
            "min_width": null,
            "border": null,
            "align_items": null,
            "bottom": null,
            "_model_module": "@jupyter-widgets/base",
            "top": null,
            "grid_column": null,
            "overflow_y": null,
            "overflow_x": null,
            "grid_auto_flow": null,
            "grid_area": null,
            "grid_template_columns": null,
            "flex": null,
            "_model_name": "LayoutModel",
            "justify_items": null,
            "grid_row": null,
            "max_height": null,
            "align_content": null,
            "visibility": null,
            "align_self": null,
            "height": null,
            "min_height": null,
            "padding": null,
            "grid_auto_rows": null,
            "grid_gap": null,
            "max_width": null,
            "order": null,
            "_view_module_version": "1.2.0",
            "grid_template_areas": null,
            "object_position": null,
            "object_fit": null,
            "grid_auto_columns": null,
            "margin": null,
            "display": null,
            "left": null
          }
        },
        "d06012532b7a48d88962b4370c6e4b54": {
          "model_module": "@jupyter-widgets/controls",
          "model_name": "HBoxModel",
          "state": {
            "_view_name": "HBoxView",
            "_dom_classes": [],
            "_model_name": "HBoxModel",
            "_view_module": "@jupyter-widgets/controls",
            "_model_module_version": "1.5.0",
            "_view_count": null,
            "_view_module_version": "1.5.0",
            "box_style": "",
            "layout": "IPY_MODEL_9859050503254a70be4eca7c245dda04",
            "_model_module": "@jupyter-widgets/controls",
            "children": [
              "IPY_MODEL_9f1adfbd03b84375b2d809ce8c589771",
              "IPY_MODEL_578b67836eec4fd789b3219e8becf7e3"
            ]
          }
        },
        "9859050503254a70be4eca7c245dda04": {
          "model_module": "@jupyter-widgets/base",
          "model_name": "LayoutModel",
          "state": {
            "_view_name": "LayoutView",
            "grid_template_rows": null,
            "right": null,
            "justify_content": null,
            "_view_module": "@jupyter-widgets/base",
            "overflow": null,
            "_model_module_version": "1.2.0",
            "_view_count": null,
            "flex_flow": null,
            "width": null,
            "min_width": null,
            "border": null,
            "align_items": null,
            "bottom": null,
            "_model_module": "@jupyter-widgets/base",
            "top": null,
            "grid_column": null,
            "overflow_y": null,
            "overflow_x": null,
            "grid_auto_flow": null,
            "grid_area": null,
            "grid_template_columns": null,
            "flex": null,
            "_model_name": "LayoutModel",
            "justify_items": null,
            "grid_row": null,
            "max_height": null,
            "align_content": null,
            "visibility": null,
            "align_self": null,
            "height": null,
            "min_height": null,
            "padding": null,
            "grid_auto_rows": null,
            "grid_gap": null,
            "max_width": null,
            "order": null,
            "_view_module_version": "1.2.0",
            "grid_template_areas": null,
            "object_position": null,
            "object_fit": null,
            "grid_auto_columns": null,
            "margin": null,
            "display": null,
            "left": null
          }
        },
        "9f1adfbd03b84375b2d809ce8c589771": {
          "model_module": "@jupyter-widgets/controls",
          "model_name": "FloatProgressModel",
          "state": {
            "_view_name": "ProgressView",
            "style": "IPY_MODEL_948a308aca9a4156a9eaef541d7abe00",
            "_dom_classes": [],
            "description": "",
            "_model_name": "FloatProgressModel",
            "bar_style": "success",
            "max": 28881,
            "_view_module": "@jupyter-widgets/controls",
            "_model_module_version": "1.5.0",
            "value": 28881,
            "_view_count": null,
            "_view_module_version": "1.5.0",
            "orientation": "horizontal",
            "min": 0,
            "description_tooltip": null,
            "_model_module": "@jupyter-widgets/controls",
            "layout": "IPY_MODEL_48c620ffffc94ba5810e323c52461524"
          }
        },
        "578b67836eec4fd789b3219e8becf7e3": {
          "model_module": "@jupyter-widgets/controls",
          "model_name": "HTMLModel",
          "state": {
            "_view_name": "HTMLView",
            "style": "IPY_MODEL_c37236d5826344059247d6d3fc21124f",
            "_dom_classes": [],
            "description": "",
            "_model_name": "HTMLModel",
            "placeholder": "​",
            "_view_module": "@jupyter-widgets/controls",
            "_model_module_version": "1.5.0",
            "value": " 29696/? [00:10&lt;00:00, 2713.35it/s]",
            "_view_count": null,
            "_view_module_version": "1.5.0",
            "description_tooltip": null,
            "_model_module": "@jupyter-widgets/controls",
            "layout": "IPY_MODEL_0b3577bb3ce84f87a2cde696468dd3fb"
          }
        },
        "948a308aca9a4156a9eaef541d7abe00": {
          "model_module": "@jupyter-widgets/controls",
          "model_name": "ProgressStyleModel",
          "state": {
            "_view_name": "StyleView",
            "_model_name": "ProgressStyleModel",
            "description_width": "initial",
            "_view_module": "@jupyter-widgets/base",
            "_model_module_version": "1.5.0",
            "_view_count": null,
            "_view_module_version": "1.2.0",
            "bar_color": null,
            "_model_module": "@jupyter-widgets/controls"
          }
        },
        "48c620ffffc94ba5810e323c52461524": {
          "model_module": "@jupyter-widgets/base",
          "model_name": "LayoutModel",
          "state": {
            "_view_name": "LayoutView",
            "grid_template_rows": null,
            "right": null,
            "justify_content": null,
            "_view_module": "@jupyter-widgets/base",
            "overflow": null,
            "_model_module_version": "1.2.0",
            "_view_count": null,
            "flex_flow": null,
            "width": null,
            "min_width": null,
            "border": null,
            "align_items": null,
            "bottom": null,
            "_model_module": "@jupyter-widgets/base",
            "top": null,
            "grid_column": null,
            "overflow_y": null,
            "overflow_x": null,
            "grid_auto_flow": null,
            "grid_area": null,
            "grid_template_columns": null,
            "flex": null,
            "_model_name": "LayoutModel",
            "justify_items": null,
            "grid_row": null,
            "max_height": null,
            "align_content": null,
            "visibility": null,
            "align_self": null,
            "height": null,
            "min_height": null,
            "padding": null,
            "grid_auto_rows": null,
            "grid_gap": null,
            "max_width": null,
            "order": null,
            "_view_module_version": "1.2.0",
            "grid_template_areas": null,
            "object_position": null,
            "object_fit": null,
            "grid_auto_columns": null,
            "margin": null,
            "display": null,
            "left": null
          }
        },
        "c37236d5826344059247d6d3fc21124f": {
          "model_module": "@jupyter-widgets/controls",
          "model_name": "DescriptionStyleModel",
          "state": {
            "_view_name": "StyleView",
            "_model_name": "DescriptionStyleModel",
            "description_width": "",
            "_view_module": "@jupyter-widgets/base",
            "_model_module_version": "1.5.0",
            "_view_count": null,
            "_view_module_version": "1.2.0",
            "_model_module": "@jupyter-widgets/controls"
          }
        },
        "0b3577bb3ce84f87a2cde696468dd3fb": {
          "model_module": "@jupyter-widgets/base",
          "model_name": "LayoutModel",
          "state": {
            "_view_name": "LayoutView",
            "grid_template_rows": null,
            "right": null,
            "justify_content": null,
            "_view_module": "@jupyter-widgets/base",
            "overflow": null,
            "_model_module_version": "1.2.0",
            "_view_count": null,
            "flex_flow": null,
            "width": null,
            "min_width": null,
            "border": null,
            "align_items": null,
            "bottom": null,
            "_model_module": "@jupyter-widgets/base",
            "top": null,
            "grid_column": null,
            "overflow_y": null,
            "overflow_x": null,
            "grid_auto_flow": null,
            "grid_area": null,
            "grid_template_columns": null,
            "flex": null,
            "_model_name": "LayoutModel",
            "justify_items": null,
            "grid_row": null,
            "max_height": null,
            "align_content": null,
            "visibility": null,
            "align_self": null,
            "height": null,
            "min_height": null,
            "padding": null,
            "grid_auto_rows": null,
            "grid_gap": null,
            "max_width": null,
            "order": null,
            "_view_module_version": "1.2.0",
            "grid_template_areas": null,
            "object_position": null,
            "object_fit": null,
            "grid_auto_columns": null,
            "margin": null,
            "display": null,
            "left": null
          }
        },
        "0477ded3ddae4733b2345ce709bb93eb": {
          "model_module": "@jupyter-widgets/controls",
          "model_name": "HBoxModel",
          "state": {
            "_view_name": "HBoxView",
            "_dom_classes": [],
            "_model_name": "HBoxModel",
            "_view_module": "@jupyter-widgets/controls",
            "_model_module_version": "1.5.0",
            "_view_count": null,
            "_view_module_version": "1.5.0",
            "box_style": "",
            "layout": "IPY_MODEL_9a830c960b5b4833a453ff9a54a27daa",
            "_model_module": "@jupyter-widgets/controls",
            "children": [
              "IPY_MODEL_0907070bf72a4f9e9684deb38e9a13ed",
              "IPY_MODEL_638a6f5969024cd893d945686b589e04"
            ]
          }
        },
        "9a830c960b5b4833a453ff9a54a27daa": {
          "model_module": "@jupyter-widgets/base",
          "model_name": "LayoutModel",
          "state": {
            "_view_name": "LayoutView",
            "grid_template_rows": null,
            "right": null,
            "justify_content": null,
            "_view_module": "@jupyter-widgets/base",
            "overflow": null,
            "_model_module_version": "1.2.0",
            "_view_count": null,
            "flex_flow": null,
            "width": null,
            "min_width": null,
            "border": null,
            "align_items": null,
            "bottom": null,
            "_model_module": "@jupyter-widgets/base",
            "top": null,
            "grid_column": null,
            "overflow_y": null,
            "overflow_x": null,
            "grid_auto_flow": null,
            "grid_area": null,
            "grid_template_columns": null,
            "flex": null,
            "_model_name": "LayoutModel",
            "justify_items": null,
            "grid_row": null,
            "max_height": null,
            "align_content": null,
            "visibility": null,
            "align_self": null,
            "height": null,
            "min_height": null,
            "padding": null,
            "grid_auto_rows": null,
            "grid_gap": null,
            "max_width": null,
            "order": null,
            "_view_module_version": "1.2.0",
            "grid_template_areas": null,
            "object_position": null,
            "object_fit": null,
            "grid_auto_columns": null,
            "margin": null,
            "display": null,
            "left": null
          }
        },
        "0907070bf72a4f9e9684deb38e9a13ed": {
          "model_module": "@jupyter-widgets/controls",
          "model_name": "FloatProgressModel",
          "state": {
            "_view_name": "ProgressView",
            "style": "IPY_MODEL_53443d483bd74b60b06daddd732de848",
            "_dom_classes": [],
            "description": "",
            "_model_name": "FloatProgressModel",
            "bar_style": "success",
            "max": 1648877,
            "_view_module": "@jupyter-widgets/controls",
            "_model_module_version": "1.5.0",
            "value": 1648877,
            "_view_count": null,
            "_view_module_version": "1.5.0",
            "orientation": "horizontal",
            "min": 0,
            "description_tooltip": null,
            "_model_module": "@jupyter-widgets/controls",
            "layout": "IPY_MODEL_facbc9c246da462ab0c7b7584a9955f1"
          }
        },
        "638a6f5969024cd893d945686b589e04": {
          "model_module": "@jupyter-widgets/controls",
          "model_name": "HTMLModel",
          "state": {
            "_view_name": "HTMLView",
            "style": "IPY_MODEL_b4661b408c7c4416ad6aff4f195b7d7b",
            "_dom_classes": [],
            "description": "",
            "_model_name": "HTMLModel",
            "placeholder": "​",
            "_view_module": "@jupyter-widgets/controls",
            "_model_module_version": "1.5.0",
            "value": " 1649664/? [00:10&lt;00:00, 157747.14it/s]",
            "_view_count": null,
            "_view_module_version": "1.5.0",
            "description_tooltip": null,
            "_model_module": "@jupyter-widgets/controls",
            "layout": "IPY_MODEL_9655b466a31a4f4c93311b7ac9c08c8c"
          }
        },
        "53443d483bd74b60b06daddd732de848": {
          "model_module": "@jupyter-widgets/controls",
          "model_name": "ProgressStyleModel",
          "state": {
            "_view_name": "StyleView",
            "_model_name": "ProgressStyleModel",
            "description_width": "initial",
            "_view_module": "@jupyter-widgets/base",
            "_model_module_version": "1.5.0",
            "_view_count": null,
            "_view_module_version": "1.2.0",
            "bar_color": null,
            "_model_module": "@jupyter-widgets/controls"
          }
        },
        "facbc9c246da462ab0c7b7584a9955f1": {
          "model_module": "@jupyter-widgets/base",
          "model_name": "LayoutModel",
          "state": {
            "_view_name": "LayoutView",
            "grid_template_rows": null,
            "right": null,
            "justify_content": null,
            "_view_module": "@jupyter-widgets/base",
            "overflow": null,
            "_model_module_version": "1.2.0",
            "_view_count": null,
            "flex_flow": null,
            "width": null,
            "min_width": null,
            "border": null,
            "align_items": null,
            "bottom": null,
            "_model_module": "@jupyter-widgets/base",
            "top": null,
            "grid_column": null,
            "overflow_y": null,
            "overflow_x": null,
            "grid_auto_flow": null,
            "grid_area": null,
            "grid_template_columns": null,
            "flex": null,
            "_model_name": "LayoutModel",
            "justify_items": null,
            "grid_row": null,
            "max_height": null,
            "align_content": null,
            "visibility": null,
            "align_self": null,
            "height": null,
            "min_height": null,
            "padding": null,
            "grid_auto_rows": null,
            "grid_gap": null,
            "max_width": null,
            "order": null,
            "_view_module_version": "1.2.0",
            "grid_template_areas": null,
            "object_position": null,
            "object_fit": null,
            "grid_auto_columns": null,
            "margin": null,
            "display": null,
            "left": null
          }
        },
        "b4661b408c7c4416ad6aff4f195b7d7b": {
          "model_module": "@jupyter-widgets/controls",
          "model_name": "DescriptionStyleModel",
          "state": {
            "_view_name": "StyleView",
            "_model_name": "DescriptionStyleModel",
            "description_width": "",
            "_view_module": "@jupyter-widgets/base",
            "_model_module_version": "1.5.0",
            "_view_count": null,
            "_view_module_version": "1.2.0",
            "_model_module": "@jupyter-widgets/controls"
          }
        },
        "9655b466a31a4f4c93311b7ac9c08c8c": {
          "model_module": "@jupyter-widgets/base",
          "model_name": "LayoutModel",
          "state": {
            "_view_name": "LayoutView",
            "grid_template_rows": null,
            "right": null,
            "justify_content": null,
            "_view_module": "@jupyter-widgets/base",
            "overflow": null,
            "_model_module_version": "1.2.0",
            "_view_count": null,
            "flex_flow": null,
            "width": null,
            "min_width": null,
            "border": null,
            "align_items": null,
            "bottom": null,
            "_model_module": "@jupyter-widgets/base",
            "top": null,
            "grid_column": null,
            "overflow_y": null,
            "overflow_x": null,
            "grid_auto_flow": null,
            "grid_area": null,
            "grid_template_columns": null,
            "flex": null,
            "_model_name": "LayoutModel",
            "justify_items": null,
            "grid_row": null,
            "max_height": null,
            "align_content": null,
            "visibility": null,
            "align_self": null,
            "height": null,
            "min_height": null,
            "padding": null,
            "grid_auto_rows": null,
            "grid_gap": null,
            "max_width": null,
            "order": null,
            "_view_module_version": "1.2.0",
            "grid_template_areas": null,
            "object_position": null,
            "object_fit": null,
            "grid_auto_columns": null,
            "margin": null,
            "display": null,
            "left": null
          }
        },
        "109612af9b0f42d4a646c3a0eb5ca562": {
          "model_module": "@jupyter-widgets/controls",
          "model_name": "HBoxModel",
          "state": {
            "_view_name": "HBoxView",
            "_dom_classes": [],
            "_model_name": "HBoxModel",
            "_view_module": "@jupyter-widgets/controls",
            "_model_module_version": "1.5.0",
            "_view_count": null,
            "_view_module_version": "1.5.0",
            "box_style": "",
            "layout": "IPY_MODEL_368142f5c57d46d389119a85bf7942ef",
            "_model_module": "@jupyter-widgets/controls",
            "children": [
              "IPY_MODEL_2a1b8990a5e6480289e0bd310edf0b98",
              "IPY_MODEL_1c7bd2f6086745b6975d1df8443c6fe7"
            ]
          }
        },
        "368142f5c57d46d389119a85bf7942ef": {
          "model_module": "@jupyter-widgets/base",
          "model_name": "LayoutModel",
          "state": {
            "_view_name": "LayoutView",
            "grid_template_rows": null,
            "right": null,
            "justify_content": null,
            "_view_module": "@jupyter-widgets/base",
            "overflow": null,
            "_model_module_version": "1.2.0",
            "_view_count": null,
            "flex_flow": null,
            "width": null,
            "min_width": null,
            "border": null,
            "align_items": null,
            "bottom": null,
            "_model_module": "@jupyter-widgets/base",
            "top": null,
            "grid_column": null,
            "overflow_y": null,
            "overflow_x": null,
            "grid_auto_flow": null,
            "grid_area": null,
            "grid_template_columns": null,
            "flex": null,
            "_model_name": "LayoutModel",
            "justify_items": null,
            "grid_row": null,
            "max_height": null,
            "align_content": null,
            "visibility": null,
            "align_self": null,
            "height": null,
            "min_height": null,
            "padding": null,
            "grid_auto_rows": null,
            "grid_gap": null,
            "max_width": null,
            "order": null,
            "_view_module_version": "1.2.0",
            "grid_template_areas": null,
            "object_position": null,
            "object_fit": null,
            "grid_auto_columns": null,
            "margin": null,
            "display": null,
            "left": null
          }
        },
        "2a1b8990a5e6480289e0bd310edf0b98": {
          "model_module": "@jupyter-widgets/controls",
          "model_name": "FloatProgressModel",
          "state": {
            "_view_name": "ProgressView",
            "style": "IPY_MODEL_e7043c309da14051bf86f4a778eb0dc7",
            "_dom_classes": [],
            "description": "",
            "_model_name": "FloatProgressModel",
            "bar_style": "success",
            "max": 4542,
            "_view_module": "@jupyter-widgets/controls",
            "_model_module_version": "1.5.0",
            "value": 4542,
            "_view_count": null,
            "_view_module_version": "1.5.0",
            "orientation": "horizontal",
            "min": 0,
            "description_tooltip": null,
            "_model_module": "@jupyter-widgets/controls",
            "layout": "IPY_MODEL_3d232d7331cc402490912fee9e3bff83"
          }
        },
        "1c7bd2f6086745b6975d1df8443c6fe7": {
          "model_module": "@jupyter-widgets/controls",
          "model_name": "HTMLModel",
          "state": {
            "_view_name": "HTMLView",
            "style": "IPY_MODEL_8008941a053f424e882d224c3552ad24",
            "_dom_classes": [],
            "description": "",
            "_model_name": "HTMLModel",
            "placeholder": "​",
            "_view_module": "@jupyter-widgets/controls",
            "_model_module_version": "1.5.0",
            "value": " 5120/? [00:00&lt;00:00, 24131.71it/s]",
            "_view_count": null,
            "_view_module_version": "1.5.0",
            "description_tooltip": null,
            "_model_module": "@jupyter-widgets/controls",
            "layout": "IPY_MODEL_9e11460e2e0b4e9b87803eda1f67ec78"
          }
        },
        "e7043c309da14051bf86f4a778eb0dc7": {
          "model_module": "@jupyter-widgets/controls",
          "model_name": "ProgressStyleModel",
          "state": {
            "_view_name": "StyleView",
            "_model_name": "ProgressStyleModel",
            "description_width": "initial",
            "_view_module": "@jupyter-widgets/base",
            "_model_module_version": "1.5.0",
            "_view_count": null,
            "_view_module_version": "1.2.0",
            "bar_color": null,
            "_model_module": "@jupyter-widgets/controls"
          }
        },
        "3d232d7331cc402490912fee9e3bff83": {
          "model_module": "@jupyter-widgets/base",
          "model_name": "LayoutModel",
          "state": {
            "_view_name": "LayoutView",
            "grid_template_rows": null,
            "right": null,
            "justify_content": null,
            "_view_module": "@jupyter-widgets/base",
            "overflow": null,
            "_model_module_version": "1.2.0",
            "_view_count": null,
            "flex_flow": null,
            "width": null,
            "min_width": null,
            "border": null,
            "align_items": null,
            "bottom": null,
            "_model_module": "@jupyter-widgets/base",
            "top": null,
            "grid_column": null,
            "overflow_y": null,
            "overflow_x": null,
            "grid_auto_flow": null,
            "grid_area": null,
            "grid_template_columns": null,
            "flex": null,
            "_model_name": "LayoutModel",
            "justify_items": null,
            "grid_row": null,
            "max_height": null,
            "align_content": null,
            "visibility": null,
            "align_self": null,
            "height": null,
            "min_height": null,
            "padding": null,
            "grid_auto_rows": null,
            "grid_gap": null,
            "max_width": null,
            "order": null,
            "_view_module_version": "1.2.0",
            "grid_template_areas": null,
            "object_position": null,
            "object_fit": null,
            "grid_auto_columns": null,
            "margin": null,
            "display": null,
            "left": null
          }
        },
        "8008941a053f424e882d224c3552ad24": {
          "model_module": "@jupyter-widgets/controls",
          "model_name": "DescriptionStyleModel",
          "state": {
            "_view_name": "StyleView",
            "_model_name": "DescriptionStyleModel",
            "description_width": "",
            "_view_module": "@jupyter-widgets/base",
            "_model_module_version": "1.5.0",
            "_view_count": null,
            "_view_module_version": "1.2.0",
            "_model_module": "@jupyter-widgets/controls"
          }
        },
        "9e11460e2e0b4e9b87803eda1f67ec78": {
          "model_module": "@jupyter-widgets/base",
          "model_name": "LayoutModel",
          "state": {
            "_view_name": "LayoutView",
            "grid_template_rows": null,
            "right": null,
            "justify_content": null,
            "_view_module": "@jupyter-widgets/base",
            "overflow": null,
            "_model_module_version": "1.2.0",
            "_view_count": null,
            "flex_flow": null,
            "width": null,
            "min_width": null,
            "border": null,
            "align_items": null,
            "bottom": null,
            "_model_module": "@jupyter-widgets/base",
            "top": null,
            "grid_column": null,
            "overflow_y": null,
            "overflow_x": null,
            "grid_auto_flow": null,
            "grid_area": null,
            "grid_template_columns": null,
            "flex": null,
            "_model_name": "LayoutModel",
            "justify_items": null,
            "grid_row": null,
            "max_height": null,
            "align_content": null,
            "visibility": null,
            "align_self": null,
            "height": null,
            "min_height": null,
            "padding": null,
            "grid_auto_rows": null,
            "grid_gap": null,
            "max_width": null,
            "order": null,
            "_view_module_version": "1.2.0",
            "grid_template_areas": null,
            "object_position": null,
            "object_fit": null,
            "grid_auto_columns": null,
            "margin": null,
            "display": null,
            "left": null
          }
        }
      }
    }
  },
  "cells": [
    {
      "cell_type": "markdown",
      "metadata": {
        "id": "view-in-github",
        "colab_type": "text"
      },
      "source": [
        "<a href=\"https://colab.research.google.com/github/edcalderin/DeepLearning_SaturdaysAI/blob/master/6_DeepUnsupervisedLearning/GAN_pr%C3%A1ctica_ejercicio.ipynb\" target=\"_parent\"><img src=\"https://colab.research.google.com/assets/colab-badge.svg\" alt=\"Open In Colab\"/></a>"
      ]
    },
    {
      "cell_type": "markdown",
      "metadata": {
        "id": "AUJhsvVNYSP7"
      },
      "source": [
        "# ***GAN***\n",
        "Reference: https://arxiv.org/pdf/1406.2661.pdf"
      ]
    },
    {
      "cell_type": "code",
      "metadata": {
        "colab": {
          "base_uri": "https://localhost:8080/"
        },
        "id": "pHMOysV8YVkv",
        "outputId": "d0a60f3a-915e-4d2a-d512-e48cf813cc50"
      },
      "source": [
        "!pip install torch torchvision"
      ],
      "execution_count": 1,
      "outputs": [
        {
          "output_type": "stream",
          "text": [
            "Requirement already satisfied: torch in /usr/local/lib/python3.7/dist-packages (1.9.0+cu102)\n",
            "Requirement already satisfied: torchvision in /usr/local/lib/python3.7/dist-packages (0.10.0+cu102)\n",
            "Requirement already satisfied: typing-extensions in /usr/local/lib/python3.7/dist-packages (from torch) (3.7.4.3)\n",
            "Requirement already satisfied: numpy in /usr/local/lib/python3.7/dist-packages (from torchvision) (1.19.5)\n",
            "Requirement already satisfied: pillow>=5.3.0 in /usr/local/lib/python3.7/dist-packages (from torchvision) (7.1.2)\n"
          ],
          "name": "stdout"
        }
      ]
    },
    {
      "cell_type": "code",
      "metadata": {
        "id": "kb3oGFQoYayq"
      },
      "source": [
        "import torch\n",
        "import torchvision\n",
        "import torch.nn as nn\n",
        "import torch.nn.functional as F"
      ],
      "execution_count": 2,
      "outputs": []
    },
    {
      "cell_type": "code",
      "metadata": {
        "id": "rztW2hiwYnIm"
      },
      "source": [
        "from torch.utils.data import DataLoader\n",
        "from torchvision import datasets\n",
        "from torchvision import transforms\n",
        "from torchvision.utils import save_image"
      ],
      "execution_count": 3,
      "outputs": []
    },
    {
      "cell_type": "code",
      "metadata": {
        "id": "nU6zDOTtYo7e"
      },
      "source": [
        "import numpy as np\n",
        "import datetime\n",
        "import os, sys"
      ],
      "execution_count": 4,
      "outputs": []
    },
    {
      "cell_type": "code",
      "metadata": {
        "id": "aeV9j6yUYqah"
      },
      "source": [
        "import matplotlib.pyplot as plt\n",
        "%matplotlib inline"
      ],
      "execution_count": 5,
      "outputs": []
    },
    {
      "cell_type": "code",
      "metadata": {
        "id": "9UdE6ivhYsIE"
      },
      "source": [
        "MODEL_NAME = 'VanillaGAN_Saturdays.ai'\n",
        "device = torch.device(\"cuda\" if torch.cuda.is_available() else \"cpu\")"
      ],
      "execution_count": 6,
      "outputs": []
    },
    {
      "cell_type": "code",
      "metadata": {
        "id": "qWokUzmVYw-5"
      },
      "source": [
        "def get_sample_image(G, n_noise):\n",
        "    \"\"\"\n",
        "        save sample 100 images\n",
        "    \"\"\"\n",
        "    z = torch.randn(100, n_noise).to(device)\n",
        "    y_hat = G(z).view(100, 28, 28) # (100, 28, 28)\n",
        "    result = y_hat.cpu().data.numpy()\n",
        "    img = np.zeros([280, 280])\n",
        "    for j in range(10):\n",
        "        img[j*28:(j+1)*28] = np.concatenate([x for x in result[j*10:(j+1)*10]], axis=-1)\n",
        "    return img"
      ],
      "execution_count": 7,
      "outputs": []
    },
    {
      "cell_type": "code",
      "metadata": {
        "id": "nTogZOWmYy3-"
      },
      "source": [
        "class Discriminator(nn.Module):\n",
        "    \"\"\"\n",
        "        Simple Discriminator w/ MLP\n",
        "    \"\"\"\n",
        "    def __init__(self, input_size=784, num_classes=1):\n",
        "        super(Discriminator, self).__init__()\n",
        "        self.layer = nn.Sequential(\n",
        "            nn.Linear(input_size, 512),\n",
        "            nn.LeakyReLU(0.2),\n",
        "            nn.Linear(512, 256),\n",
        "            nn.LeakyReLU(0.2),\n",
        "            nn.Linear(256, num_classes),\n",
        "            nn.Sigmoid()\n",
        "        )\n",
        "    \n",
        "    def forward(self, x):\n",
        "        y_ = x.view(x.size(0), -1)\n",
        "        y_ = self.layer(y_)\n",
        "        return y_"
      ],
      "execution_count": 8,
      "outputs": []
    },
    {
      "cell_type": "code",
      "metadata": {
        "id": "sRMr-zJpY0kq"
      },
      "source": [
        "class Generator(nn.Module):\n",
        "    \"\"\"\n",
        "        Simple Generator w/ MLP\n",
        "    \"\"\"\n",
        "    def __init__(self, input_size=100, num_classes=784):\n",
        "        super(Generator, self).__init__()\n",
        "        self.layer = nn.Sequential(\n",
        "            nn.Linear(input_size, 128),\n",
        "            nn.LeakyReLU(0.2),\n",
        "            nn.Linear(128, 256),\n",
        "            nn.BatchNorm1d(256),\n",
        "            nn.LeakyReLU(0.2),\n",
        "            nn.Linear(256, 512),\n",
        "            nn.BatchNorm1d(512),\n",
        "            nn.LeakyReLU(0.2),\n",
        "            nn.Linear(512, 1024),\n",
        "            nn.BatchNorm1d(1024),\n",
        "            nn.LeakyReLU(0.2),\n",
        "            nn.Linear(1024, num_classes),\n",
        "            nn.Tanh()\n",
        "        )\n",
        "        \n",
        "    def forward(self, x):\n",
        "        y_ = self.layer(x)\n",
        "        y_ = y_.view(x.size(0), 1, 28, 28)\n",
        "        return y_"
      ],
      "execution_count": 9,
      "outputs": []
    },
    {
      "cell_type": "code",
      "metadata": {
        "id": "qgVSVo6jY2lh"
      },
      "source": [
        "n_noise = 100"
      ],
      "execution_count": 10,
      "outputs": []
    },
    {
      "cell_type": "code",
      "metadata": {
        "id": "-goF5gCiY35v"
      },
      "source": [
        "D = Discriminator().to(device)\n",
        "G = Generator(n_noise).to(device)"
      ],
      "execution_count": 11,
      "outputs": []
    },
    {
      "cell_type": "code",
      "metadata": {
        "id": "BbWbAdNgY5c-"
      },
      "source": [
        "transform = transforms.Compose([transforms.ToTensor(),\n",
        "                                transforms.Normalize(mean=[0.5], std=[0.5])\n",
        "                                ]\n",
        ")"
      ],
      "execution_count": 12,
      "outputs": []
    },
    {
      "cell_type": "code",
      "metadata": {
        "id": "T1jV5YhuY69r",
        "outputId": "b32f00ba-0030-4041-eaae-2e259018d3a1",
        "colab": {
          "base_uri": "https://localhost:8080/",
          "height": 534,
          "referenced_widgets": [
            "e63f3b23e3d243578d613c910872fe01",
            "ee2f182112c043ffa08346d6447ea180",
            "1177a854e1b941f483aae4657326510d",
            "ed0a3d594f2d42f488e160cfeb0a21d2",
            "95df8467092249a687b8a4f7bb0665a6",
            "8647ea52750b4bfa83067eb8b147cd38",
            "4c206e85cc294b4a9212ca585fb127d3",
            "cd1b7e978c4a4b4888942adbd48bf6ce",
            "d06012532b7a48d88962b4370c6e4b54",
            "9859050503254a70be4eca7c245dda04",
            "9f1adfbd03b84375b2d809ce8c589771",
            "578b67836eec4fd789b3219e8becf7e3",
            "948a308aca9a4156a9eaef541d7abe00",
            "48c620ffffc94ba5810e323c52461524",
            "c37236d5826344059247d6d3fc21124f",
            "0b3577bb3ce84f87a2cde696468dd3fb",
            "0477ded3ddae4733b2345ce709bb93eb",
            "9a830c960b5b4833a453ff9a54a27daa",
            "0907070bf72a4f9e9684deb38e9a13ed",
            "638a6f5969024cd893d945686b589e04",
            "53443d483bd74b60b06daddd732de848",
            "facbc9c246da462ab0c7b7584a9955f1",
            "b4661b408c7c4416ad6aff4f195b7d7b",
            "9655b466a31a4f4c93311b7ac9c08c8c",
            "109612af9b0f42d4a646c3a0eb5ca562",
            "368142f5c57d46d389119a85bf7942ef",
            "2a1b8990a5e6480289e0bd310edf0b98",
            "1c7bd2f6086745b6975d1df8443c6fe7",
            "e7043c309da14051bf86f4a778eb0dc7",
            "3d232d7331cc402490912fee9e3bff83",
            "8008941a053f424e882d224c3552ad24",
            "9e11460e2e0b4e9b87803eda1f67ec78"
          ]
        }
      },
      "source": [
        "mnist = datasets.MNIST(root='../data/', train=True, transform=transform, download=True)"
      ],
      "execution_count": 13,
      "outputs": [
        {
          "output_type": "stream",
          "text": [
            "Downloading http://yann.lecun.com/exdb/mnist/train-images-idx3-ubyte.gz\n",
            "Downloading http://yann.lecun.com/exdb/mnist/train-images-idx3-ubyte.gz to ../data/MNIST/raw/train-images-idx3-ubyte.gz\n"
          ],
          "name": "stdout"
        },
        {
          "output_type": "display_data",
          "data": {
            "application/vnd.jupyter.widget-view+json": {
              "model_id": "e63f3b23e3d243578d613c910872fe01",
              "version_minor": 0,
              "version_major": 2
            },
            "text/plain": [
              "HBox(children=(FloatProgress(value=0.0, max=9912422.0), HTML(value='')))"
            ]
          },
          "metadata": {
            "tags": []
          }
        },
        {
          "output_type": "stream",
          "text": [
            "\n",
            "Extracting ../data/MNIST/raw/train-images-idx3-ubyte.gz to ../data/MNIST/raw\n",
            "\n",
            "Downloading http://yann.lecun.com/exdb/mnist/train-labels-idx1-ubyte.gz\n",
            "Downloading http://yann.lecun.com/exdb/mnist/train-labels-idx1-ubyte.gz to ../data/MNIST/raw/train-labels-idx1-ubyte.gz\n"
          ],
          "name": "stdout"
        },
        {
          "output_type": "display_data",
          "data": {
            "application/vnd.jupyter.widget-view+json": {
              "model_id": "d06012532b7a48d88962b4370c6e4b54",
              "version_minor": 0,
              "version_major": 2
            },
            "text/plain": [
              "HBox(children=(FloatProgress(value=0.0, max=28881.0), HTML(value='')))"
            ]
          },
          "metadata": {
            "tags": []
          }
        },
        {
          "output_type": "stream",
          "text": [
            "\n",
            "Extracting ../data/MNIST/raw/train-labels-idx1-ubyte.gz to ../data/MNIST/raw\n",
            "\n",
            "Downloading http://yann.lecun.com/exdb/mnist/t10k-images-idx3-ubyte.gz\n",
            "Downloading http://yann.lecun.com/exdb/mnist/t10k-images-idx3-ubyte.gz to ../data/MNIST/raw/t10k-images-idx3-ubyte.gz\n"
          ],
          "name": "stdout"
        },
        {
          "output_type": "display_data",
          "data": {
            "application/vnd.jupyter.widget-view+json": {
              "model_id": "0477ded3ddae4733b2345ce709bb93eb",
              "version_minor": 0,
              "version_major": 2
            },
            "text/plain": [
              "HBox(children=(FloatProgress(value=0.0, max=1648877.0), HTML(value='')))"
            ]
          },
          "metadata": {
            "tags": []
          }
        },
        {
          "output_type": "stream",
          "text": [
            "\n",
            "Extracting ../data/MNIST/raw/t10k-images-idx3-ubyte.gz to ../data/MNIST/raw\n",
            "\n",
            "Downloading http://yann.lecun.com/exdb/mnist/t10k-labels-idx1-ubyte.gz\n",
            "Downloading http://yann.lecun.com/exdb/mnist/t10k-labels-idx1-ubyte.gz to ../data/MNIST/raw/t10k-labels-idx1-ubyte.gz\n"
          ],
          "name": "stdout"
        },
        {
          "output_type": "display_data",
          "data": {
            "application/vnd.jupyter.widget-view+json": {
              "model_id": "109612af9b0f42d4a646c3a0eb5ca562",
              "version_minor": 0,
              "version_major": 2
            },
            "text/plain": [
              "HBox(children=(FloatProgress(value=0.0, max=4542.0), HTML(value='')))"
            ]
          },
          "metadata": {
            "tags": []
          }
        },
        {
          "output_type": "stream",
          "text": [
            "\n",
            "Extracting ../data/MNIST/raw/t10k-labels-idx1-ubyte.gz to ../data/MNIST/raw\n",
            "\n"
          ],
          "name": "stdout"
        },
        {
          "output_type": "stream",
          "text": [
            "/usr/local/lib/python3.7/dist-packages/torchvision/datasets/mnist.py:498: UserWarning: The given NumPy array is not writeable, and PyTorch does not support non-writeable tensors. This means you can write to the underlying (supposedly non-writeable) NumPy array using the tensor. You may want to copy the array to protect its data or make it writeable before converting it to a tensor. This type of warning will be suppressed for the rest of this program. (Triggered internally at  /pytorch/torch/csrc/utils/tensor_numpy.cpp:180.)\n",
            "  return torch.from_numpy(parsed.astype(m[2], copy=False)).view(*s)\n"
          ],
          "name": "stderr"
        }
      ]
    },
    {
      "cell_type": "code",
      "metadata": {
        "id": "Ky8Csvy3Y8Tn"
      },
      "source": [
        "batch_size = 64"
      ],
      "execution_count": 14,
      "outputs": []
    },
    {
      "cell_type": "code",
      "metadata": {
        "id": "kAlLaEH7Y-DT"
      },
      "source": [
        "data_loader = DataLoader(dataset=mnist, batch_size=batch_size, shuffle=True, drop_last=True)"
      ],
      "execution_count": 15,
      "outputs": []
    },
    {
      "cell_type": "code",
      "metadata": {
        "id": "RSjwBjTvY_5B"
      },
      "source": [
        "criterion = nn.BCELoss()\n",
        "D_opt = torch.optim.Adam(D.parameters(), lr=0.0002, betas=(0.5, 0.999)) # Utilizar optimizador Adam con LR 0.0002 y betas=(0.5, 0.999)\n",
        "G_opt = torch.optim.Adam(G.parameters(), lr=0.0002, betas=(0.5, 0.999)) # Utilizar optimizador Adam con LR 0.0002 y betas=(0.5, 0.999)"
      ],
      "execution_count": 16,
      "outputs": []
    },
    {
      "cell_type": "code",
      "metadata": {
        "id": "08wZGl0IZBVf"
      },
      "source": [
        "max_epoch = 50 # need more than 10 epochs for training generator\n",
        "step = 0\n",
        "n_critic = 1 # for training more k steps about Discriminator"
      ],
      "execution_count": 17,
      "outputs": []
    },
    {
      "cell_type": "code",
      "metadata": {
        "id": "hAHK-YyHZC2g"
      },
      "source": [
        "D_labels = torch.ones(batch_size, 1).to(device) # Discriminator Label to real\n",
        "D_fakes = torch.zeros(batch_size, 1).to(device) # Discriminator Label to fake"
      ],
      "execution_count": 18,
      "outputs": []
    },
    {
      "cell_type": "code",
      "metadata": {
        "id": "hAjgfstmZELG"
      },
      "source": [
        "if not os.path.exists('samples'):\n",
        "    os.makedirs('samples')"
      ],
      "execution_count": 19,
      "outputs": []
    },
    {
      "cell_type": "code",
      "metadata": {
        "colab": {
          "base_uri": "https://localhost:8080/"
        },
        "id": "Abt47QtUZFjE",
        "outputId": "3ed65d17-5ab9-49da-c662-ed1d01157776"
      },
      "source": [
        "for epoch in range(max_epoch):\n",
        "    for idx, (images, _) in enumerate(data_loader):\n",
        "        # Training Discriminator\n",
        "        x = images.to(device)\n",
        "        x_outputs = D(x)\n",
        "        D_x_loss = criterion(x_outputs, D_labels)\n",
        "\n",
        "        z = torch.randn(batch_size, n_noise).to(device)\n",
        "        z_outputs = D(G(z))\n",
        "        D_z_loss = criterion(z_outputs, D_fakes)\n",
        "        D_loss = D_z_loss + D_x_loss\n",
        "        \n",
        "        D.zero_grad()\n",
        "        D_loss.backward()\n",
        "        D_opt.step()\n",
        "\n",
        "        if step % n_critic == 0:\n",
        "            # Training Generator\n",
        "            z = torch.randn(batch_size, n_noise).to(device)\n",
        "            z_outputs = D(G(z))\n",
        "            G_loss = criterion(z_outputs, D_labels)\n",
        "\n",
        "            G.zero_grad()\n",
        "            G_loss.backward()\n",
        "            G_opt.step()\n",
        "        \n",
        "        if step % 500 == 0:\n",
        "            print('Epoch: {}/{}, Step: {}, D Loss: {}, G Loss: {}'.format(epoch, max_epoch, step, D_loss.item(), G_loss.item()))\n",
        "        \n",
        "        if step % 1000 == 0:\n",
        "            G.eval()\n",
        "            img = get_sample_image(G, n_noise)\n",
        "            plt.imsave('samples/{}_step{}.jpg'.format(MODEL_NAME, str(step).zfill(3)), img, cmap='gray')\n",
        "            G.train()\n",
        "        step += 1\n"
      ],
      "execution_count": 20,
      "outputs": [
        {
          "output_type": "stream",
          "text": [
            "Epoch: 0/50, Step: 0, D Loss: 1.3462103605270386, G Loss: 0.6808770895004272\n",
            "Epoch: 0/50, Step: 500, D Loss: 1.242538571357727, G Loss: 0.8379873037338257\n",
            "Epoch: 1/50, Step: 1000, D Loss: 1.3430469036102295, G Loss: 0.7861515879631042\n",
            "Epoch: 1/50, Step: 1500, D Loss: 1.2877047061920166, G Loss: 0.7866036295890808\n",
            "Epoch: 2/50, Step: 2000, D Loss: 1.2538108825683594, G Loss: 0.6910497546195984\n",
            "Epoch: 2/50, Step: 2500, D Loss: 1.1818249225616455, G Loss: 0.9317693114280701\n",
            "Epoch: 3/50, Step: 3000, D Loss: 1.2701423168182373, G Loss: 0.9679131507873535\n",
            "Epoch: 3/50, Step: 3500, D Loss: 1.2139031887054443, G Loss: 1.051032304763794\n",
            "Epoch: 4/50, Step: 4000, D Loss: 1.2509750127792358, G Loss: 0.9545767307281494\n",
            "Epoch: 4/50, Step: 4500, D Loss: 1.2065258026123047, G Loss: 0.8220800757408142\n",
            "Epoch: 5/50, Step: 5000, D Loss: 1.3601341247558594, G Loss: 1.090645432472229\n",
            "Epoch: 5/50, Step: 5500, D Loss: 1.36797034740448, G Loss: 1.03023362159729\n",
            "Epoch: 6/50, Step: 6000, D Loss: 1.2824113368988037, G Loss: 0.9481968879699707\n",
            "Epoch: 6/50, Step: 6500, D Loss: 1.2074542045593262, G Loss: 0.857235312461853\n",
            "Epoch: 7/50, Step: 7000, D Loss: 1.3118081092834473, G Loss: 1.0808873176574707\n",
            "Epoch: 8/50, Step: 7500, D Loss: 1.3487776517868042, G Loss: 1.358374834060669\n",
            "Epoch: 8/50, Step: 8000, D Loss: 1.4120174646377563, G Loss: 1.5029457807540894\n",
            "Epoch: 9/50, Step: 8500, D Loss: 1.2247525453567505, G Loss: 0.8549262285232544\n",
            "Epoch: 9/50, Step: 9000, D Loss: 1.2881643772125244, G Loss: 0.8199754953384399\n",
            "Epoch: 10/50, Step: 9500, D Loss: 1.3245315551757812, G Loss: 0.6216803789138794\n",
            "Epoch: 10/50, Step: 10000, D Loss: 1.2666780948638916, G Loss: 0.7327708005905151\n",
            "Epoch: 11/50, Step: 10500, D Loss: 1.2507293224334717, G Loss: 0.8486675024032593\n",
            "Epoch: 11/50, Step: 11000, D Loss: 1.291404366493225, G Loss: 0.8978991508483887\n",
            "Epoch: 12/50, Step: 11500, D Loss: 1.3527441024780273, G Loss: 0.7275983691215515\n",
            "Epoch: 12/50, Step: 12000, D Loss: 1.172865629196167, G Loss: 0.8576713800430298\n",
            "Epoch: 13/50, Step: 12500, D Loss: 1.252889633178711, G Loss: 0.7218544483184814\n",
            "Epoch: 13/50, Step: 13000, D Loss: 1.3333749771118164, G Loss: 0.981070876121521\n",
            "Epoch: 14/50, Step: 13500, D Loss: 1.2900947332382202, G Loss: 1.0361695289611816\n",
            "Epoch: 14/50, Step: 14000, D Loss: 1.259293794631958, G Loss: 0.8425754904747009\n",
            "Epoch: 15/50, Step: 14500, D Loss: 1.3368712663650513, G Loss: 0.6542805433273315\n",
            "Epoch: 16/50, Step: 15000, D Loss: 1.3016388416290283, G Loss: 0.568225622177124\n",
            "Epoch: 16/50, Step: 15500, D Loss: 1.2576208114624023, G Loss: 0.9909259080886841\n",
            "Epoch: 17/50, Step: 16000, D Loss: 1.2284116744995117, G Loss: 0.7091512084007263\n",
            "Epoch: 17/50, Step: 16500, D Loss: 1.400521159172058, G Loss: 0.5762660503387451\n",
            "Epoch: 18/50, Step: 17000, D Loss: 1.3160784244537354, G Loss: 0.8064916133880615\n",
            "Epoch: 18/50, Step: 17500, D Loss: 1.2678723335266113, G Loss: 0.8494006395339966\n",
            "Epoch: 19/50, Step: 18000, D Loss: 1.324476718902588, G Loss: 0.6807492971420288\n",
            "Epoch: 19/50, Step: 18500, D Loss: 1.2957197427749634, G Loss: 0.7399775385856628\n",
            "Epoch: 20/50, Step: 19000, D Loss: 1.3161957263946533, G Loss: 0.666106104850769\n",
            "Epoch: 20/50, Step: 19500, D Loss: 1.2747762203216553, G Loss: 0.8148082494735718\n",
            "Epoch: 21/50, Step: 20000, D Loss: 1.2407845258712769, G Loss: 0.9728901982307434\n",
            "Epoch: 21/50, Step: 20500, D Loss: 1.268845796585083, G Loss: 0.8998899459838867\n",
            "Epoch: 22/50, Step: 21000, D Loss: 1.303062915802002, G Loss: 1.0181968212127686\n",
            "Epoch: 22/50, Step: 21500, D Loss: 1.370182752609253, G Loss: 0.9296748042106628\n",
            "Epoch: 23/50, Step: 22000, D Loss: 1.302269697189331, G Loss: 1.0692944526672363\n",
            "Epoch: 24/50, Step: 22500, D Loss: 1.324766993522644, G Loss: 0.9128060340881348\n",
            "Epoch: 24/50, Step: 23000, D Loss: 1.3942172527313232, G Loss: 0.7361189126968384\n",
            "Epoch: 25/50, Step: 23500, D Loss: 1.3340585231781006, G Loss: 0.7800967693328857\n",
            "Epoch: 25/50, Step: 24000, D Loss: 1.3063459396362305, G Loss: 0.7917860150337219\n",
            "Epoch: 26/50, Step: 24500, D Loss: 1.3320014476776123, G Loss: 0.7985539436340332\n",
            "Epoch: 26/50, Step: 25000, D Loss: 1.2559971809387207, G Loss: 0.9609416723251343\n",
            "Epoch: 27/50, Step: 25500, D Loss: 1.310945987701416, G Loss: 0.817064106464386\n",
            "Epoch: 27/50, Step: 26000, D Loss: 1.291020154953003, G Loss: 0.9666651487350464\n",
            "Epoch: 28/50, Step: 26500, D Loss: 1.2691651582717896, G Loss: 0.9310836791992188\n",
            "Epoch: 28/50, Step: 27000, D Loss: 1.2392656803131104, G Loss: 0.7838333249092102\n",
            "Epoch: 29/50, Step: 27500, D Loss: 1.2857391834259033, G Loss: 0.8007358312606812\n",
            "Epoch: 29/50, Step: 28000, D Loss: 1.2626030445098877, G Loss: 0.907405436038971\n",
            "Epoch: 30/50, Step: 28500, D Loss: 1.2673561573028564, G Loss: 0.8503551483154297\n",
            "Epoch: 30/50, Step: 29000, D Loss: 1.306755781173706, G Loss: 0.6656263470649719\n",
            "Epoch: 31/50, Step: 29500, D Loss: 1.254137635231018, G Loss: 1.0212211608886719\n",
            "Epoch: 32/50, Step: 30000, D Loss: 1.2517616748809814, G Loss: 0.7416201233863831\n",
            "Epoch: 32/50, Step: 30500, D Loss: 1.3083195686340332, G Loss: 0.8737818002700806\n",
            "Epoch: 33/50, Step: 31000, D Loss: 1.2967283725738525, G Loss: 1.015721082687378\n",
            "Epoch: 33/50, Step: 31500, D Loss: 1.3527785539627075, G Loss: 0.7376096248626709\n",
            "Epoch: 34/50, Step: 32000, D Loss: 1.2494179010391235, G Loss: 0.8928132653236389\n",
            "Epoch: 34/50, Step: 32500, D Loss: 1.3404635190963745, G Loss: 0.7256712913513184\n",
            "Epoch: 35/50, Step: 33000, D Loss: 1.179858684539795, G Loss: 0.8986282348632812\n",
            "Epoch: 35/50, Step: 33500, D Loss: 1.3036446571350098, G Loss: 0.770606517791748\n",
            "Epoch: 36/50, Step: 34000, D Loss: 1.224330186843872, G Loss: 0.9878139495849609\n",
            "Epoch: 36/50, Step: 34500, D Loss: 1.309539556503296, G Loss: 0.9411916732788086\n",
            "Epoch: 37/50, Step: 35000, D Loss: 1.2414566278457642, G Loss: 0.7277147173881531\n",
            "Epoch: 37/50, Step: 35500, D Loss: 1.2565538883209229, G Loss: 0.6027334928512573\n",
            "Epoch: 38/50, Step: 36000, D Loss: 1.2857682704925537, G Loss: 0.7784956097602844\n",
            "Epoch: 38/50, Step: 36500, D Loss: 1.2600431442260742, G Loss: 0.6737380027770996\n",
            "Epoch: 39/50, Step: 37000, D Loss: 1.244330883026123, G Loss: 0.818604052066803\n",
            "Epoch: 40/50, Step: 37500, D Loss: 1.263375997543335, G Loss: 0.8406111598014832\n",
            "Epoch: 40/50, Step: 38000, D Loss: 1.1871432065963745, G Loss: 1.055972695350647\n",
            "Epoch: 41/50, Step: 38500, D Loss: 1.2305209636688232, G Loss: 0.79301917552948\n",
            "Epoch: 41/50, Step: 39000, D Loss: 1.3327336311340332, G Loss: 1.012250304222107\n",
            "Epoch: 42/50, Step: 39500, D Loss: 1.245905876159668, G Loss: 1.0325733423233032\n",
            "Epoch: 42/50, Step: 40000, D Loss: 1.2787492275238037, G Loss: 0.7000186443328857\n",
            "Epoch: 43/50, Step: 40500, D Loss: 1.214201807975769, G Loss: 0.9363642930984497\n",
            "Epoch: 43/50, Step: 41000, D Loss: 1.2404468059539795, G Loss: 0.7892857789993286\n",
            "Epoch: 44/50, Step: 41500, D Loss: 1.1920331716537476, G Loss: 0.8214115500450134\n",
            "Epoch: 44/50, Step: 42000, D Loss: 1.2701122760772705, G Loss: 0.7814260125160217\n",
            "Epoch: 45/50, Step: 42500, D Loss: 1.1755211353302002, G Loss: 0.7829269766807556\n",
            "Epoch: 45/50, Step: 43000, D Loss: 1.347031831741333, G Loss: 0.8336643576622009\n",
            "Epoch: 46/50, Step: 43500, D Loss: 1.3453354835510254, G Loss: 0.5495761632919312\n",
            "Epoch: 46/50, Step: 44000, D Loss: 1.2415263652801514, G Loss: 1.1498394012451172\n",
            "Epoch: 47/50, Step: 44500, D Loss: 1.2570226192474365, G Loss: 0.8436980247497559\n",
            "Epoch: 48/50, Step: 45000, D Loss: 1.2646864652633667, G Loss: 0.828967809677124\n",
            "Epoch: 48/50, Step: 45500, D Loss: 1.2662224769592285, G Loss: 0.9122430086135864\n",
            "Epoch: 49/50, Step: 46000, D Loss: 1.2350775003433228, G Loss: 0.6975430250167847\n",
            "Epoch: 49/50, Step: 46500, D Loss: 1.2237534523010254, G Loss: 0.8654088377952576\n"
          ],
          "name": "stdout"
        }
      ]
    },
    {
      "cell_type": "code",
      "metadata": {
        "colab": {
          "base_uri": "https://localhost:8080/",
          "height": 286
        },
        "id": "-FsO47lZZIMX",
        "outputId": "1dcea48c-f777-4245-b485-2e4e0f696497"
      },
      "source": [
        "# generation to image\n",
        "G.eval()\n",
        "plt.imshow(get_sample_image(G, n_noise), cmap='gray')"
      ],
      "execution_count": 21,
      "outputs": [
        {
          "output_type": "execute_result",
          "data": {
            "text/plain": [
              "<matplotlib.image.AxesImage at 0x7f25e71fce90>"
            ]
          },
          "metadata": {
            "tags": []
          },
          "execution_count": 21
        },
        {
          "output_type": "display_data",
          "data": {
            "image/png": "[encoded data removed]",
            "text/plain": [
              "<Figure size 432x288 with 1 Axes>"
            ]
          },
          "metadata": {
            "tags": [],
            "needs_background": "light"
          }
        }
      ]
    },
    {
      "cell_type": "code",
      "metadata": {
        "id": "-EJnQYA0ZJ2D"
      },
      "source": [
        "# Saving params.\n",
        "torch.save(D.state_dict(), 'D.pkl')\n",
        "torch.save(G.state_dict(), 'G.pkl')"
      ],
      "execution_count": 22,
      "outputs": []
    }
  ]
}